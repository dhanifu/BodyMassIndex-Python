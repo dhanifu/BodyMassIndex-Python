{
 "cells": [
  {
   "cell_type": "code",
   "execution_count": 6,
   "metadata": {},
   "outputs": [
    {
     "name": "stdout",
     "output_type": "stream",
     "text": [
      "Tinggi Badan (cm) : 170\n",
      "Berat Badan  (kg) : 100\n",
      "BMI = 34.602076124567475 -> Kelebihan Berat Badan\n"
     ]
    }
   ],
   "source": [
    "tinggiCM = int(input(\"Tinggi Badan (cm) : \"))\n",
    "berat = int(input(\"Berat Badan  (kg) : \"))\n",
    "tinggiM = tinggiCM * 0.01\n",
    "bmi = berat / (tinggiM ** 2)\n",
    "\n",
    "if bmi < 18.5 :\n",
    "    print(\"BMI =\", bmi, \"-> Kekurangan Berat Badan\")\n",
    "elif bmi > 18.5 and bmi < 24.9 :\n",
    "    print(\"BMI =\", bmi, \"-> Berat Badan Ideal\")\n",
    "else:\n",
    "    print(\"BMI =\", bmi, \"-> Kelebihan Berat Badan\")"
   ]
  },
  {
   "cell_type": "code",
   "execution_count": null,
   "metadata": {},
   "outputs": [],
   "source": []
  }
 ],
 "metadata": {
  "kernelspec": {
   "display_name": "Python 3",
   "language": "python",
   "name": "python3"
  },
  "language_info": {
   "codemirror_mode": {
    "name": "ipython",
    "version": 3
   },
   "file_extension": ".py",
   "mimetype": "text/x-python",
   "name": "python",
   "nbconvert_exporter": "python",
   "pygments_lexer": "ipython3",
   "version": "3.7.1"
  }
 },
 "nbformat": 4,
 "nbformat_minor": 2
}
